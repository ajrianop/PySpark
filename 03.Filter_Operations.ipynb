{
 "cells": [
  {
   "cell_type": "markdown",
   "id": "52212abb",
   "metadata": {},
   "source": [
    "# Filter Operations"
   ]
  },
  {
   "cell_type": "markdown",
   "id": "ff7eda04",
   "metadata": {},
   "source": [
    "Filter operation are used to filter rows in a dataframe according to conditions given. The filter operation allows you to narrow down the dataset based on certain criteria. "
   ]
  },
  {
   "cell_type": "code",
   "execution_count": 1,
   "id": "468e59b2",
   "metadata": {},
   "outputs": [],
   "source": [
    "from pyspark.sql import SparkSession"
   ]
  },
  {
   "cell_type": "code",
   "execution_count": 2,
   "id": "ca78ccc3",
   "metadata": {},
   "outputs": [],
   "source": [
    "spark = SparkSession.builder.appName('Filter_Operation').getOrCreate()"
   ]
  },
  {
   "cell_type": "code",
   "execution_count": 3,
   "id": "82eb0849",
   "metadata": {},
   "outputs": [
    {
     "name": "stdout",
     "output_type": "stream",
     "text": [
      "+-------+---+----------+----------+------+--------------------+\n",
      "|   Name|Age|Experience|Salary_USD|ID job|    Current Position|\n",
      "+-------+---+----------+----------+------+--------------------+\n",
      "|  Alice| 25|         2|      2911|     9|    Graphic Designer|\n",
      "|    Bob| 30|         4|      3443|     2|      Data Scientist|\n",
      "|Charlie| 22|         7|      7034|     5|   Marketing Manager|\n",
      "|  David| 35|        12|      9118|     6|   Financial Analyst|\n",
      "|   Emma| 28|         9|     12455|     7|Human Resources S...|\n",
      "+-------+---+----------+----------+------+--------------------+\n",
      "only showing top 5 rows\n",
      "\n"
     ]
    }
   ],
   "source": [
    "df_pyspark = spark.read.csv('data/names_and_ages.csv', header = True , inferSchema = True , sep = ';')\n",
    "df_pyspark.show(5)"
   ]
  },
  {
   "cell_type": "markdown",
   "id": "e050c7dc",
   "metadata": {},
   "source": [
    "From the `names_and_games.csv` file, we want to select only those rows where the `Salary_USD` is less than or equal to 8500."
   ]
  },
  {
   "cell_type": "code",
   "execution_count": 5,
   "id": "1778301c",
   "metadata": {},
   "outputs": [
    {
     "name": "stdout",
     "output_type": "stream",
     "text": [
      "+--------+---+----------+----------+------+--------------------+\n",
      "|    Name|Age|Experience|Salary_USD|ID job|    Current Position|\n",
      "+--------+---+----------+----------+------+--------------------+\n",
      "|   Alice| 25|         2|      2911|     9|    Graphic Designer|\n",
      "|     Bob| 30|         4|      3443|     2|      Data Scientist|\n",
      "| Charlie| 22|         7|      7034|     5|   Marketing Manager|\n",
      "|   Grace| 23|         3|      2443|     7|Human Resources S...|\n",
      "|   Henry| 32|        14|      7750|    10|  Operations Manager|\n",
      "|   Irene| 27|        25|      3635|     7|Human Resources S...|\n",
      "|   Karen| 26|         3|      1940|     7|Human Resources S...|\n",
      "|     Leo| 29|         1|      4865|     8|Customer Service ...|\n",
      "|   Maria| 31|         0|      1883|     8|Customer Service ...|\n",
      "|  Nathan| 37|         0|      7096|     3|     Project Manager|\n",
      "|  Olivia| 24|         3|      6736|     9|    Graphic Designer|\n",
      "|    Paul| 38|         1|      2120|     3|     Project Manager|\n",
      "|  Rachel| 34|         3|      2238|     1|   Software Engineer|\n",
      "|     Sam| 39|         6|      6936|    10|  Operations Manager|\n",
      "|  Taylor| 36|        15|      7815|     2|      Data Scientist|\n",
      "| Ulysses| 42|         7|      3026|     3|     Project Manager|\n",
      "|  Walter| 45|         5|      5596|     7|Human Resources S...|\n",
      "| Zachary| 29|         2|      6746|     6|   Financial Analyst|\n",
      "|     Ava| 26|         4|      5179|     8|Customer Service ...|\n",
      "|Benjamin| 32|         3|      6242|    10|  Operations Manager|\n",
      "+--------+---+----------+----------+------+--------------------+\n",
      "only showing top 20 rows\n",
      "\n"
     ]
    }
   ],
   "source": [
    "# Filtering\n",
    "df_pyspark.filter('Salary_USD<=8500').show()"
   ]
  },
  {
   "cell_type": "markdown",
   "id": "9d99e28f",
   "metadata": {},
   "source": [
    "If we only want to select the columns `Name` and `Age` with a filter condition where `Salary_USD` is less than or equal to 8500, we write:"
   ]
  },
  {
   "cell_type": "code",
   "execution_count": 6,
   "id": "1af05033",
   "metadata": {},
   "outputs": [
    {
     "name": "stdout",
     "output_type": "stream",
     "text": [
      "+--------+---+\n",
      "|    Name|Age|\n",
      "+--------+---+\n",
      "|   Alice| 25|\n",
      "|     Bob| 30|\n",
      "| Charlie| 22|\n",
      "|   Frank| 40|\n",
      "|   Grace| 23|\n",
      "|   Henry| 32|\n",
      "|   Irene| 27|\n",
      "|   Karen| 26|\n",
      "|     Leo| 29|\n",
      "|   Maria| 31|\n",
      "|  Nathan| 37|\n",
      "|  Olivia| 24|\n",
      "|    Paul| 38|\n",
      "|  Rachel| 34|\n",
      "|     Sam| 39|\n",
      "|  Taylor| 36|\n",
      "| Ulysses| 42|\n",
      "|Victoria| 20|\n",
      "|  Walter| 45|\n",
      "| Zachary| 29|\n",
      "+--------+---+\n",
      "only showing top 20 rows\n",
      "\n"
     ]
    }
   ],
   "source": [
    "df_pyspark.filter('Salary_USD<=8500').select(['Name' , 'Age']).show()"
   ]
  },
  {
   "cell_type": "markdown",
   "id": "62ae96a4",
   "metadata": {},
   "source": [
    "We can also use the following command to achieve the same result."
   ]
  },
  {
   "cell_type": "code",
   "execution_count": 8,
   "id": "919e108c",
   "metadata": {},
   "outputs": [
    {
     "name": "stdout",
     "output_type": "stream",
     "text": [
      "+--------+---+----------+----------+------+--------------------+\n",
      "|    Name|Age|Experience|Salary_USD|ID job|    Current Position|\n",
      "+--------+---+----------+----------+------+--------------------+\n",
      "|   Alice| 25|         2|      2911|     9|    Graphic Designer|\n",
      "|     Bob| 30|         4|      3443|     2|      Data Scientist|\n",
      "| Charlie| 22|         7|      7034|     5|   Marketing Manager|\n",
      "|   Frank| 40|         1|      8372|     1|   Software Engineer|\n",
      "|   Grace| 23|         3|      2443|     7|Human Resources S...|\n",
      "|   Henry| 32|        14|      7750|    10|  Operations Manager|\n",
      "|   Irene| 27|        25|      3635|     7|Human Resources S...|\n",
      "|   Karen| 26|         3|      1940|     7|Human Resources S...|\n",
      "|     Leo| 29|         1|      4865|     8|Customer Service ...|\n",
      "|   Maria| 31|         0|      1883|     8|Customer Service ...|\n",
      "|  Nathan| 37|         0|      7096|     3|     Project Manager|\n",
      "|  Olivia| 24|         3|      6736|     9|    Graphic Designer|\n",
      "|    Paul| 38|         1|      2120|     3|     Project Manager|\n",
      "|  Rachel| 34|         3|      2238|     1|   Software Engineer|\n",
      "|     Sam| 39|         6|      6936|    10|  Operations Manager|\n",
      "|  Taylor| 36|        15|      7815|     2|      Data Scientist|\n",
      "| Ulysses| 42|         7|      3026|     3|     Project Manager|\n",
      "|Victoria| 20|         6|      8174|    10|  Operations Manager|\n",
      "|  Walter| 45|         5|      5596|     7|Human Resources S...|\n",
      "| Zachary| 29|         2|      6746|     6|   Financial Analyst|\n",
      "+--------+---+----------+----------+------+--------------------+\n",
      "only showing top 20 rows\n",
      "\n"
     ]
    }
   ],
   "source": [
    "df_pyspark.filter(df_pyspark['Salary_USD']<=8500).show()"
   ]
  },
  {
   "cell_type": "markdown",
   "id": "bc833e02",
   "metadata": {},
   "source": [
    "To apply a filter based on two conditions that must occur simultaneously, we use the `&` operator. So, we want to select those rows where the `Salary_USD` is more or equal than 8500 and less or equal than 12000."
   ]
  },
  {
   "cell_type": "code",
   "execution_count": 11,
   "id": "478dcffb",
   "metadata": {},
   "outputs": [
    {
     "name": "stdout",
     "output_type": "stream",
     "text": [
      "+------+---+----------+----------+------+--------------------+\n",
      "|  Name|Age|Experience|Salary_USD|ID job|    Current Position|\n",
      "+------+---+----------+----------+------+--------------------+\n",
      "| David| 35|        12|      9118|     6|   Financial Analyst|\n",
      "|Daniel| 35|        21|     11092|     2|      Data Scientist|\n",
      "|  Finn| 30|         9|     11485|     5|   Marketing Manager|\n",
      "| Jacob| 28|         2|     10900|     4|     Sales Associate|\n",
      "| Riley| 29|        19|     11555|     7|Human Resources S...|\n",
      "|Sophia| 41|        18|      8562|     5|   Marketing Manager|\n",
      "|Ursula| 26|         2|     10230|    10|  Operations Manager|\n",
      "+------+---+----------+----------+------+--------------------+\n",
      "\n"
     ]
    }
   ],
   "source": [
    "df_pyspark.filter((df_pyspark['Salary_USD']<=12000) &\n",
    "                   (df_pyspark['Salary_USD']>=8500)).show()"
   ]
  },
  {
   "cell_type": "markdown",
   "id": "9436939e",
   "metadata": {},
   "source": [
    "We can also consider the or operator `|`, so that we want to select those rows where the Salary_USD is less or equal than 2000 or more or equal than 15000."
   ]
  },
  {
   "cell_type": "code",
   "execution_count": 20,
   "id": "170cf2a7",
   "metadata": {},
   "outputs": [
    {
     "name": "stdout",
     "output_type": "stream",
     "text": [
      "+--------+---+----------+----------+------+--------------------+\n",
      "|    Name|Age|Experience|Salary_USD|ID job|    Current Position|\n",
      "+--------+---+----------+----------+------+--------------------+\n",
      "|    Jack| 33|         2|     15356|     9|    Graphic Designer|\n",
      "|   Karen| 26|         3|      1940|     7|Human Resources S...|\n",
      "|   Maria| 31|         0|      1883|     8|Customer Service ...|\n",
      "|   Quinn| 21|        14|     16975|     3|     Project Manager|\n",
      "|  Xander| 28|         2|     19054|     9|    Graphic Designer|\n",
      "|Isabella| 36|         7|      1965|     4|     Sales Associate|\n",
      "|   Kylie| 25|         4|      1602|     1|   Software Engineer|\n",
      "|   Megan| 22|        12|     17440|     7|Human Resources S...|\n",
      "|  Willow| 33|        17|     16315|     3|     Project Manager|\n",
      "+--------+---+----------+----------+------+--------------------+\n",
      "\n"
     ]
    }
   ],
   "source": [
    "df_pyspark.filter((df_pyspark['Salary_USD']<=2000) |\n",
    "                   (df_pyspark['Salary_USD']>=15000)).show(40)"
   ]
  },
  {
   "cell_type": "markdown",
   "id": "76812783",
   "metadata": {},
   "source": [
    "The not operation is considered with the symbol `~`, so if we want to select those values of `Salary_USD` which are not less or equal than 8000, we use:"
   ]
  },
  {
   "cell_type": "code",
   "execution_count": 21,
   "id": "20d08ff2",
   "metadata": {},
   "outputs": [
    {
     "name": "stdout",
     "output_type": "stream",
     "text": [
      "+--------+---+----------+----------+------+--------------------+\n",
      "|    Name|Age|Experience|Salary_USD|ID job|    Current Position|\n",
      "+--------+---+----------+----------+------+--------------------+\n",
      "|   David| 35|        12|      9118|     6|   Financial Analyst|\n",
      "|    Emma| 28|         9|     12455|     7|Human Resources S...|\n",
      "|   Frank| 40|         1|      8372|     1|   Software Engineer|\n",
      "|    Jack| 33|         2|     15356|     9|    Graphic Designer|\n",
      "|   Quinn| 21|        14|     16975|     3|     Project Manager|\n",
      "|Victoria| 20|         6|      8174|    10|  Operations Manager|\n",
      "|  Xander| 28|         2|     19054|     9|    Graphic Designer|\n",
      "| Yasmine| 31|         8|     12362|    10|  Operations Manager|\n",
      "|   Chloe| 23|         6|      8412|     6|   Financial Analyst|\n",
      "|  Daniel| 35|        21|     11092|     2|      Data Scientist|\n",
      "|    Finn| 30|         9|     11485|     5|   Marketing Manager|\n",
      "| Giselle| 24|         8|     14278|     9|    Graphic Designer|\n",
      "|  Hayden| 33|         5|     12213|     2|      Data Scientist|\n",
      "|   Jacob| 28|         2|     10900|     4|     Sales Associate|\n",
      "|    Liam| 31|         5|     14483|     7|Human Resources S...|\n",
      "|   Megan| 22|        12|     17440|     7|Human Resources S...|\n",
      "| Quentin| 34|        10|     13287|     4|     Sales Associate|\n",
      "|   Riley| 29|        19|     11555|     7|Human Resources S...|\n",
      "|  Sophia| 41|        18|      8562|     5|   Marketing Manager|\n",
      "|   Tyler| 40|         4|     13628|     9|    Graphic Designer|\n",
      "+--------+---+----------+----------+------+--------------------+\n",
      "only showing top 20 rows\n",
      "\n"
     ]
    }
   ],
   "source": [
    "df_pyspark.filter(~(df_pyspark['Salary_USD']<=8000)).show()"
   ]
  }
 ],
 "metadata": {
  "kernelspec": {
   "display_name": "Python 3 (ipykernel)",
   "language": "python",
   "name": "python3"
  },
  "language_info": {
   "codemirror_mode": {
    "name": "ipython",
    "version": 3
   },
   "file_extension": ".py",
   "mimetype": "text/x-python",
   "name": "python",
   "nbconvert_exporter": "python",
   "pygments_lexer": "ipython3",
   "version": "3.9.13"
  }
 },
 "nbformat": 4,
 "nbformat_minor": 5
}
