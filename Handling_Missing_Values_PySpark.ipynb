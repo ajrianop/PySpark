{
 "cells": [
  {
   "cell_type": "markdown",
   "id": "0acf5bfc",
   "metadata": {},
   "source": [
    "# Handling with missing values"
   ]
  },
  {
   "cell_type": "markdown",
   "id": "434bd7e9",
   "metadata": {},
   "source": [
    "Let us read the csv file, with missing values."
   ]
  },
  {
   "cell_type": "code",
   "execution_count": 2,
   "id": "e2225c7a",
   "metadata": {},
   "outputs": [],
   "source": [
    "from pyspark.sql import SparkSession\n",
    "spark = SparkSession.builder.appName('Missing_values').getOrCreate()"
   ]
  },
  {
   "cell_type": "code",
   "execution_count": null,
   "id": "04afb9bd",
   "metadata": {},
   "outputs": [],
   "source": []
  }
 ],
 "metadata": {
  "kernelspec": {
   "display_name": "Python 3 (ipykernel)",
   "language": "python",
   "name": "python3"
  },
  "language_info": {
   "codemirror_mode": {
    "name": "ipython",
    "version": 3
   },
   "file_extension": ".py",
   "mimetype": "text/x-python",
   "name": "python",
   "nbconvert_exporter": "python",
   "pygments_lexer": "ipython3",
   "version": "3.9.13"
  }
 },
 "nbformat": 4,
 "nbformat_minor": 5
}
