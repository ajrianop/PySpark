{
 "cells": [
  {
   "cell_type": "markdown",
   "id": "8e920bac",
   "metadata": {},
   "source": [
    "# Machine Learning with PySpark"
   ]
  },
  {
   "cell_type": "code",
   "execution_count": 1,
   "id": "191b3a12",
   "metadata": {},
   "outputs": [],
   "source": [
    "from pyspark.sql import SparkSession"
   ]
  },
  {
   "cell_type": "code",
   "execution_count": 2,
   "id": "79e0c8c0",
   "metadata": {},
   "outputs": [
    {
     "data": {
      "text/html": [
       "\n",
       "            <div>\n",
       "                <p><b>SparkSession - in-memory</b></p>\n",
       "                \n",
       "        <div>\n",
       "            <p><b>SparkContext</b></p>\n",
       "\n",
       "            <p><a href=\"http://DESKTOP-MRCQNP2:4040\">Spark UI</a></p>\n",
       "\n",
       "            <dl>\n",
       "              <dt>Version</dt>\n",
       "                <dd><code>v3.5.0</code></dd>\n",
       "              <dt>Master</dt>\n",
       "                <dd><code>local[*]</code></dd>\n",
       "              <dt>AppName</dt>\n",
       "                <dd><code>Machine_Learning</code></dd>\n",
       "            </dl>\n",
       "        </div>\n",
       "        \n",
       "            </div>\n",
       "        "
      ],
      "text/plain": [
       "<pyspark.sql.session.SparkSession at 0x206ffe748e0>"
      ]
     },
     "execution_count": 2,
     "metadata": {},
     "output_type": "execute_result"
    }
   ],
   "source": [
    "spark = SparkSession.builder.appName('Machine_Learning').getOrCreate()\n",
    "spark"
   ]
  },
  {
   "cell_type": "code",
   "execution_count": 5,
   "id": "a6310f08",
   "metadata": {},
   "outputs": [
    {
     "name": "stdout",
     "output_type": "stream",
     "text": [
      "+-------+---+----------+----------+------+--------------------+\n",
      "|   Name|Age|Experience|Salary_USD|ID job|    Current Position|\n",
      "+-------+---+----------+----------+------+--------------------+\n",
      "|  Alice| 25|         2|      2911|     9|    Graphic Designer|\n",
      "|    Bob| 30|         4|      3443|     2|      Data Scientist|\n",
      "|Charlie| 22|         7|      7034|     5|   Marketing Manager|\n",
      "|  David| 35|        12|      9118|     6|   Financial Analyst|\n",
      "|   Emma| 28|         9|     12455|     7|Human Resources S...|\n",
      "|  Frank| 40|         1|      8372|     1|   Software Engineer|\n",
      "|  Grace| 23|         3|      2443|     7|Human Resources S...|\n",
      "|  Henry| 32|        14|      7750|    10|  Operations Manager|\n",
      "|  Irene| 27|        25|      3635|     7|Human Resources S...|\n",
      "|   Jack| 33|         2|     15356|     9|    Graphic Designer|\n",
      "|  Karen| 26|         3|      1940|     7|Human Resources S...|\n",
      "|    Leo| 29|         1|      4865|     8|Customer Service ...|\n",
      "|  Maria| 31|         0|      1883|     8|Customer Service ...|\n",
      "| Nathan| 37|         0|      7096|     3|     Project Manager|\n",
      "| Olivia| 24|         3|      6736|     9|    Graphic Designer|\n",
      "|   Paul| 38|         1|      2120|     3|     Project Manager|\n",
      "|  Quinn| 21|        14|     16975|     3|     Project Manager|\n",
      "| Rachel| 34|         3|      2238|     1|   Software Engineer|\n",
      "|    Sam| 39|         6|      6936|    10|  Operations Manager|\n",
      "| Taylor| 36|        15|      7815|     2|      Data Scientist|\n",
      "+-------+---+----------+----------+------+--------------------+\n",
      "only showing top 20 rows\n",
      "\n"
     ]
    }
   ],
   "source": [
    "train_set = spark.read.csv('data/names_and_ages.csv', header = True , inferSchema = True, sep = \";\")\n",
    "train_set.show()"
   ]
  },
  {
   "cell_type": "code",
   "execution_count": 6,
   "id": "de24cda3",
   "metadata": {},
   "outputs": [
    {
     "name": "stdout",
     "output_type": "stream",
     "text": [
      "root\n",
      " |-- Name: string (nullable = true)\n",
      " |-- Age: integer (nullable = true)\n",
      " |-- Experience: integer (nullable = true)\n",
      " |-- Salary_USD: integer (nullable = true)\n",
      " |-- ID job: integer (nullable = true)\n",
      " |-- Current Position: string (nullable = true)\n",
      "\n"
     ]
    }
   ],
   "source": [
    "train_set.printSchema()"
   ]
  },
  {
   "cell_type": "code",
   "execution_count": 7,
   "id": "5523809b",
   "metadata": {},
   "outputs": [
    {
     "data": {
      "text/plain": [
       "['Name', 'Age', 'Experience', 'Salary_USD', 'ID job', 'Current Position']"
      ]
     },
     "execution_count": 7,
     "metadata": {},
     "output_type": "execute_result"
    }
   ],
   "source": [
    "train_set.columns"
   ]
  },
  {
   "cell_type": "markdown",
   "id": "e16004c6",
   "metadata": {},
   "source": [
    "**Creating a vector assembler**\n",
    "\n",
    "[Age, Experience] ----> new feature ----> independent feature"
   ]
  },
  {
   "cell_type": "markdown",
   "id": "50837f93",
   "metadata": {},
   "source": [
    "**FeatureAssembler** is a transformer used to assemble feature vectors from individual columns of a DataFrame. It combines a given list of columns into a single vector column, which is often required as input for machine learning algorithms in PySpark."
   ]
  },
  {
   "cell_type": "code",
   "execution_count": 23,
   "id": "d95a56c1",
   "metadata": {},
   "outputs": [],
   "source": [
    "from pyspark.ml.feature import VectorAssembler\n",
    "featureassembler = VectorAssembler(inputCols = [\"Age\" , \"Experience\"] , outputCol=\"Independent Features\")"
   ]
  },
  {
   "cell_type": "markdown",
   "id": "9adcd962",
   "metadata": {},
   "source": [
    "The **transform()** method of FeatureAssembler is used to transform a DataFrame by assembling feature vectors from the specified input columns. It takes the DataFrame as input and returns a new DataFrame with an additional column containing the assembled feature vectors."
   ]
  },
  {
   "cell_type": "code",
   "execution_count": 24,
   "id": "fc433630",
   "metadata": {},
   "outputs": [],
   "source": [
    "output = featureassembler.transform(train_set)"
   ]
  },
  {
   "cell_type": "code",
   "execution_count": 25,
   "id": "6defcc44",
   "metadata": {},
   "outputs": [
    {
     "name": "stdout",
     "output_type": "stream",
     "text": [
      "+-------+---+----------+----------+------+--------------------+--------------------+\n",
      "|   Name|Age|Experience|Salary_USD|ID job|    Current Position|Independent Features|\n",
      "+-------+---+----------+----------+------+--------------------+--------------------+\n",
      "|  Alice| 25|         2|      2911|     9|    Graphic Designer|          [25.0,2.0]|\n",
      "|    Bob| 30|         4|      3443|     2|      Data Scientist|          [30.0,4.0]|\n",
      "|Charlie| 22|         7|      7034|     5|   Marketing Manager|          [22.0,7.0]|\n",
      "|  David| 35|        12|      9118|     6|   Financial Analyst|         [35.0,12.0]|\n",
      "|   Emma| 28|         9|     12455|     7|Human Resources S...|          [28.0,9.0]|\n",
      "|  Frank| 40|         1|      8372|     1|   Software Engineer|          [40.0,1.0]|\n",
      "|  Grace| 23|         3|      2443|     7|Human Resources S...|          [23.0,3.0]|\n",
      "|  Henry| 32|        14|      7750|    10|  Operations Manager|         [32.0,14.0]|\n",
      "|  Irene| 27|        25|      3635|     7|Human Resources S...|         [27.0,25.0]|\n",
      "|   Jack| 33|         2|     15356|     9|    Graphic Designer|          [33.0,2.0]|\n",
      "|  Karen| 26|         3|      1940|     7|Human Resources S...|          [26.0,3.0]|\n",
      "|    Leo| 29|         1|      4865|     8|Customer Service ...|          [29.0,1.0]|\n",
      "|  Maria| 31|         0|      1883|     8|Customer Service ...|          [31.0,0.0]|\n",
      "| Nathan| 37|         0|      7096|     3|     Project Manager|          [37.0,0.0]|\n",
      "| Olivia| 24|         3|      6736|     9|    Graphic Designer|          [24.0,3.0]|\n",
      "|   Paul| 38|         1|      2120|     3|     Project Manager|          [38.0,1.0]|\n",
      "|  Quinn| 21|        14|     16975|     3|     Project Manager|         [21.0,14.0]|\n",
      "| Rachel| 34|         3|      2238|     1|   Software Engineer|          [34.0,3.0]|\n",
      "|    Sam| 39|         6|      6936|    10|  Operations Manager|          [39.0,6.0]|\n",
      "| Taylor| 36|        15|      7815|     2|      Data Scientist|         [36.0,15.0]|\n",
      "+-------+---+----------+----------+------+--------------------+--------------------+\n",
      "only showing top 20 rows\n",
      "\n"
     ]
    }
   ],
   "source": [
    "output.show()"
   ]
  },
  {
   "cell_type": "code",
   "execution_count": 26,
   "id": "efaf6aad",
   "metadata": {},
   "outputs": [
    {
     "data": {
      "text/plain": [
       "['Name',\n",
       " 'Age',\n",
       " 'Experience',\n",
       " 'Salary_USD',\n",
       " 'ID job',\n",
       " 'Current Position',\n",
       " 'Independent Features']"
      ]
     },
     "execution_count": 26,
     "metadata": {},
     "output_type": "execute_result"
    }
   ],
   "source": [
    "output.columns"
   ]
  },
  {
   "cell_type": "code",
   "execution_count": 29,
   "id": "4309ae8f",
   "metadata": {},
   "outputs": [],
   "source": [
    "data = output.select(\"Independent features\" , \"Salary_USD\")"
   ]
  },
  {
   "cell_type": "code",
   "execution_count": 30,
   "id": "b9af839b",
   "metadata": {},
   "outputs": [
    {
     "name": "stdout",
     "output_type": "stream",
     "text": [
      "+--------------------+----------+\n",
      "|Independent features|Salary_USD|\n",
      "+--------------------+----------+\n",
      "|          [25.0,2.0]|      2911|\n",
      "|          [30.0,4.0]|      3443|\n",
      "|          [22.0,7.0]|      7034|\n",
      "|         [35.0,12.0]|      9118|\n",
      "|          [28.0,9.0]|     12455|\n",
      "|          [40.0,1.0]|      8372|\n",
      "|          [23.0,3.0]|      2443|\n",
      "|         [32.0,14.0]|      7750|\n",
      "|         [27.0,25.0]|      3635|\n",
      "|          [33.0,2.0]|     15356|\n",
      "|          [26.0,3.0]|      1940|\n",
      "|          [29.0,1.0]|      4865|\n",
      "|          [31.0,0.0]|      1883|\n",
      "|          [37.0,0.0]|      7096|\n",
      "|          [24.0,3.0]|      6736|\n",
      "|          [38.0,1.0]|      2120|\n",
      "|         [21.0,14.0]|     16975|\n",
      "|          [34.0,3.0]|      2238|\n",
      "|          [39.0,6.0]|      6936|\n",
      "|         [36.0,15.0]|      7815|\n",
      "+--------------------+----------+\n",
      "only showing top 20 rows\n",
      "\n"
     ]
    }
   ],
   "source": [
    "data.show()"
   ]
  },
  {
   "cell_type": "markdown",
   "id": "41db6e01",
   "metadata": {},
   "source": [
    "We are going to do the train test split"
   ]
  },
  {
   "cell_type": "code",
   "execution_count": 33,
   "id": "d7c356da",
   "metadata": {},
   "outputs": [],
   "source": [
    "from pyspark.ml.regression import LinearRegression\n",
    "# Train Test split\n",
    "train_data, test_data = data.randomSplit([0.75,0.25])\n",
    "regressor = LinearRegression(featuresCol='Independent features', labelCol = 'Salary_USD')\n",
    "regressor =regressor.fit(train_data)"
   ]
  },
  {
   "cell_type": "code",
   "execution_count": 34,
   "id": "c8c80488",
   "metadata": {},
   "outputs": [
    {
     "data": {
      "text/plain": [
       "DenseVector([-92.5701, 134.5087])"
      ]
     },
     "execution_count": 34,
     "metadata": {},
     "output_type": "execute_result"
    }
   ],
   "source": [
    "# The coefficient of the linear regression\n",
    "regressor.coefficients"
   ]
  },
  {
   "cell_type": "code",
   "execution_count": 35,
   "id": "b2b0d55d",
   "metadata": {},
   "outputs": [
    {
     "data": {
      "text/plain": [
       "10163.755934052866"
      ]
     },
     "execution_count": 35,
     "metadata": {},
     "output_type": "execute_result"
    }
   ],
   "source": [
    "# The Intercepts of the linear regression\n",
    "regressor.intercept"
   ]
  },
  {
   "cell_type": "code",
   "execution_count": 38,
   "id": "b43d2dc1",
   "metadata": {},
   "outputs": [
    {
     "name": "stdout",
     "output_type": "stream",
     "text": [
      "+--------------------+----------+------------------+\n",
      "|Independent features|Salary_USD|        prediction|\n",
      "+--------------------+----------+------------------+\n",
      "|         [21.0,14.0]|     16975|10102.905778005199|\n",
      "|          [24.0,3.0]|      6736| 8345.600400170799|\n",
      "|          [24.0,8.0]|     14278| 9018.143668785806|\n",
      "|          [25.0,2.0]|      2911| 8118.521684154004|\n",
      "|          [26.0,3.0]|      1940| 8160.460275583211|\n",
      "|          [27.0,0.0]|      6996| 7664.364252120412|\n",
      "|          [29.0,1.0]|      4865| 7613.732781255824|\n",
      "|          [29.0,2.0]|      6746| 7748.241434978825|\n",
      "|         [29.0,19.0]|     11555|10034.888548269848|\n",
      "|          [30.0,4.0]|      3443| 7924.688680131034|\n",
      "|          [31.0,8.0]|     12362| 8370.153232729244|\n",
      "|          [33.0,2.0]|     15356| 7377.961185803647|\n",
      "|          [33.0,5.0]|     12213| 7781.487146972651|\n",
      "|          [36.0,7.0]|      1965| 7772.794267537271|\n",
      "+--------------------+----------+------------------+\n",
      "\n"
     ]
    }
   ],
   "source": [
    "# The Prediction of the linear regression\n",
    "pred = regressor.evaluate(test_data)\n",
    "pred.predictions.show()"
   ]
  },
  {
   "cell_type": "code",
   "execution_count": 39,
   "id": "dc1842ba",
   "metadata": {},
   "outputs": [
    {
     "data": {
      "text/plain": [
       "(4128.561729668928, 21975051.169756234)"
      ]
     },
     "execution_count": 39,
     "metadata": {},
     "output_type": "execute_result"
    }
   ],
   "source": [
    "pred.meanAbsoluteError,pred.meanSquaredError"
   ]
  }
 ],
 "metadata": {
  "kernelspec": {
   "display_name": "Python 3 (ipykernel)",
   "language": "python",
   "name": "python3"
  },
  "language_info": {
   "codemirror_mode": {
    "name": "ipython",
    "version": 3
   },
   "file_extension": ".py",
   "mimetype": "text/x-python",
   "name": "python",
   "nbconvert_exporter": "python",
   "pygments_lexer": "ipython3",
   "version": "3.9.13"
  }
 },
 "nbformat": 4,
 "nbformat_minor": 5
}
